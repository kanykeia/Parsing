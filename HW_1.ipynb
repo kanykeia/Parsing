{
 "cells": [
  {
   "cell_type": "markdown",
   "id": "84ae46d1",
   "metadata": {},
   "source": [
    "**1. Посмотреть документацию к API GitHub, разобраться как вывести список репозиториев для конкретного пользователя, сохранить JSON-вывод в файле *.json.**"
   ]
  },
  {
   "cell_type": "code",
   "execution_count": 2,
   "id": "2a648c16",
   "metadata": {},
   "outputs": [],
   "source": [
    "import requests"
   ]
  },
  {
   "cell_type": "code",
   "execution_count": 3,
   "id": "5aaba4c0",
   "metadata": {},
   "outputs": [],
   "source": [
    "from pprint import pprint"
   ]
  },
  {
   "cell_type": "code",
   "execution_count": 4,
   "id": "9109251d",
   "metadata": {},
   "outputs": [],
   "source": [
    "import json"
   ]
  },
  {
   "cell_type": "code",
   "execution_count": 8,
   "id": "a0b45c88",
   "metadata": {},
   "outputs": [],
   "source": [
    "url = 'https://api.github.com'\n",
    "user='kanykeia'"
   ]
  },
  {
   "cell_type": "code",
   "execution_count": 10,
   "id": "227643f1",
   "metadata": {},
   "outputs": [],
   "source": [
    "r = requests.get(f'{url}/users/{user}/repos')"
   ]
  },
  {
   "cell_type": "code",
   "execution_count": 11,
   "id": "e5b60c74",
   "metadata": {},
   "outputs": [],
   "source": [
    "with open('github.json', 'w') as f:\n",
    "    json.dump(r.json(), f)"
   ]
  },
  {
   "cell_type": "code",
   "execution_count": 12,
   "id": "af46a871",
   "metadata": {},
   "outputs": [
    {
     "name": "stdout",
     "output_type": "stream",
     "text": [
      "MySQL\n",
      "Numpy-Pandas\n",
      "Parsing\n",
      "python\n",
      "repo\n"
     ]
    }
   ],
   "source": [
    "for i in r.json():\n",
    "    print(i['name'])"
   ]
  },
  {
   "cell_type": "markdown",
   "id": "e48e618f",
   "metadata": {},
   "source": [
    "**2.Изучить список открытых API (https://www.programmableweb.com/category/all/apis). Найти среди них любое, требующее авторизацию (любого типа). Выполнить запросы к нему, пройдя авторизацию. Ответ сервера записать в файл.\n",
    "Если нет желания заморачиваться с поиском, возьмите API вконтакте (https://vk.com/dev/first_guide). Сделайте запрос, чтобы получить список всех сообществ на которые вы подписаны.**"
   ]
  },
  {
   "cell_type": "code",
   "execution_count": 7,
   "id": "06f323af",
   "metadata": {},
   "outputs": [
    {
     "name": "stdout",
     "output_type": "stream",
     "text": [
      "https://samples.openweathermap.org/data/2.5/weather?q=Bishkek&appid=b6907d289e10d714a6e88b30761fae22\n",
      "Получен результат\n",
      "{'base': 'stations',\n",
      " 'clouds': {'all': 90},\n",
      " 'cod': 200,\n",
      " 'coord': {'lat': 51.51, 'lon': -0.13},\n",
      " 'dt': 1485789600,\n",
      " 'id': 2643743,\n",
      " 'main': {'humidity': 81,\n",
      "          'pressure': 1012,\n",
      "          'temp': 280.32,\n",
      "          'temp_max': 281.15,\n",
      "          'temp_min': 279.15},\n",
      " 'name': 'London',\n",
      " 'sys': {'country': 'GB',\n",
      "         'id': 5091,\n",
      "         'message': 0.0103,\n",
      "         'sunrise': 1485762037,\n",
      "         'sunset': 1485794875,\n",
      "         'type': 1},\n",
      " 'visibility': 10000,\n",
      " 'weather': [{'description': 'light intensity drizzle',\n",
      "              'icon': '09d',\n",
      "              'id': 300,\n",
      "              'main': 'Drizzle'}],\n",
      " 'wind': {'deg': 80, 'speed': 4.1}}\n"
     ]
    }
   ],
   "source": [
    "import time\n",
    "def get_data(service, appid,city):\n",
    "    while True:\n",
    "        time.sleep(1)\n",
    "        url = f'{service}?q={city}&appid={appid}'\n",
    "        response = requests.get(url)\n",
    "        if response.status_code == 200:\n",
    "            print(url)\n",
    "            break\n",
    "    return response.json()\n",
    "\n",
    "appid = 'b6907d289e10d714a6e88b30761fae22'\n",
    "service = 'https://samples.openweathermap.org/data/2.5/weather'\n",
    "city = 'Bishkek'\n",
    "response = get_data(service, appid, city)\n",
    "\n",
    "print('Получен результат')\n",
    "pprint(response)\n",
    "\n",
    "with open('1_2_weather.json', 'w') as f:\n",
    "    json_repo = json.dump(response, f)"
   ]
  },
  {
   "cell_type": "code",
   "execution_count": null,
   "id": "dba7b41e",
   "metadata": {},
   "outputs": [],
   "source": []
  }
 ],
 "metadata": {
  "kernelspec": {
   "display_name": "Python 3 (ipykernel)",
   "language": "python",
   "name": "python3"
  },
  "language_info": {
   "codemirror_mode": {
    "name": "ipython",
    "version": 3
   },
   "file_extension": ".py",
   "mimetype": "text/x-python",
   "name": "python",
   "nbconvert_exporter": "python",
   "pygments_lexer": "ipython3",
   "version": "3.9.12"
  }
 },
 "nbformat": 4,
 "nbformat_minor": 5
}
